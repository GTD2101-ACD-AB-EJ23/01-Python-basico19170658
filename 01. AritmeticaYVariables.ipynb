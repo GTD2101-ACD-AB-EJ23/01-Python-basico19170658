{
  "cells": [
    {
      "attachments": {},
      "cell_type": "markdown",
      "metadata": {},
      "source": [
        "# Aritmética y Variables\n",
        "\n",
        "En este JNB se revisará el tema de Aritmética y Variables"
      ]
    },
    {
      "cell_type": "code",
      "execution_count": 2,
      "metadata": {
        "id": "O8NoTzxjs2wK",
        "outputId": "fa4bc249-a4fa-48a6-9dc6-7733646ed223"
      },
      "outputs": [
        {
          "name": "stdout",
          "output_type": "stream",
          "text": [
            "Hello \n",
            "World!\n"
          ]
        }
      ],
      "source": [
        "print(\"Hello \\nWorld!\")"
      ]
    },
    {
      "attachments": {},
      "cell_type": "markdown",
      "metadata": {},
      "source": [
        "Si queremos imprimir un texto en varias lineas, podemos usar triple comillas simples."
      ]
    },
    {
      "cell_type": "code",
      "execution_count": 3,
      "metadata": {},
      "outputs": [
        {
          "name": "stdout",
          "output_type": "stream",
          "text": [
            "Hola este e sun texto\n",
            "que tiene varias lineas.\n",
            "Python es poderoso\n"
          ]
        }
      ],
      "source": [
        "texto = '''Hola este e sun texto\n",
        "que tiene varias lineas.\n",
        "Python es poderoso'''\n",
        "print(texto)"
      ]
    },
    {
      "cell_type": "code",
      "execution_count": 6,
      "metadata": {},
      "outputs": [
        {
          "name": "stdout",
          "output_type": "stream",
          "text": [
            "Bryan r'Reyes\n"
          ]
        }
      ],
      "source": [
        "print(\"Bryan r'Reyes\")"
      ]
    },
    {
      "cell_type": "code",
      "execution_count": 5,
      "metadata": {},
      "outputs": [
        {
          "name": "stdout",
          "output_type": "stream",
          "text": [
            "6\n"
          ]
        }
      ],
      "source": [
        "# Multiply 3 by 2\n",
        "print(3 * 2)"
      ]
    },
    {
      "attachments": {},
      "cell_type": "markdown",
      "metadata": {},
      "source": [
        "## Comentarios.\n",
        "### En Python\n",
        "\n",
        "Para colocar comentarios en Python usar el simbolo #.\n",
        "\n",
        "(Entre más \"#\", más pequeña sera la letra.)"
      ]
    },
    {
      "cell_type": "code",
      "execution_count": 7,
      "metadata": {},
      "outputs": [
        {
          "name": "stdout",
          "output_type": "stream",
          "text": [
            "El curso esta\"Dificil\"\n",
            "El curso esta\"Dificil\", mi nombre es Jhon O'bryan\n"
          ]
        }
      ],
      "source": [
        "\"\"\"La siguiente instruccion imprime un texto utilizando f String.\n",
        "Otra.\n",
        "Linea 3.\"\"\"\n",
        "nombre = \"Jhon\"\n",
        "apellido = \"O'bryan\"\n",
        "print(f\"El curso esta\\\"Dificil\\\"\")\n",
        "print(f\"El curso esta\\\"Dificil\\\", mi nombre es {nombre} {apellido}\")"
      ]
    },
    {
      "attachments": {},
      "cell_type": "markdown",
      "metadata": {},
      "source": [
        "## Variables."
      ]
    },
    {
      "cell_type": "code",
      "execution_count": 8,
      "metadata": {},
      "outputs": [
        {
          "name": "stdout",
          "output_type": "stream",
          "text": [
            "<class 'int'>\n",
            "<class 'str'>\n"
          ]
        }
      ],
      "source": [
        "anios = 20\n",
        "nombre = \"Jhon Wick\"\n",
        "print(type(anios))\n",
        "print(type(nombre))"
      ]
    }
  ],
  "metadata": {
    "colab": {
      "include_colab_link": true,
      "provenance": []
    },
    "kernelspec": {
      "display_name": "Python 3",
      "language": "python",
      "name": "python3"
    },
    "language_info": {
      "codemirror_mode": {
        "name": "ipython",
        "version": 3
      },
      "file_extension": ".py",
      "mimetype": "text/x-python",
      "name": "python",
      "nbconvert_exporter": "python",
      "pygments_lexer": "ipython3",
      "version": "3.10.4"
    },
    "orig_nbformat": 4,
    "vscode": {
      "interpreter": {
        "hash": "3ad933181bd8a04b432d3370b9dc3b0662ad032c4dfaa4e4f1596c548f763858"
      }
    }
  },
  "nbformat": 4,
  "nbformat_minor": 0
}
